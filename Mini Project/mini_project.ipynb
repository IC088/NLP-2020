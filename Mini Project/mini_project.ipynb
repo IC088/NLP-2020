{
 "cells": [
  {
   "cell_type": "markdown",
   "metadata": {
    "colab_type": "text",
    "id": "pf_8OI34CdXU"
   },
   "source": [
    "<img src=\"sutd.png\" alt=\"drawing\" style=\"width:300px;\"/>\n",
    "\n",
    "## <center>50.040 Natural Language Processing, Summer 2020<center>\n",
    "<center>**Due 19 June 2020, 5pm** <center>\n",
    "Mini Project"
   ]
  },
  {
   "cell_type": "markdown",
   "metadata": {
    "colab_type": "text",
    "id": "YAN5MA5GCdXU"
   },
   "source": [
    "**Write your student ID and name**\n",
    "\n",
    "\n",
    "### STUDENT ID: 1003056\n",
    "\n",
    "### Name: Ivan Christian\n",
    "\n",
    "### Students with whom you have discussed (if any): Ng Jen Yang, Tee Zhi Yao"
   ]
  },
  {
   "cell_type": "markdown",
   "metadata": {
    "colab_type": "text",
    "id": "V0iF5uWcCdXV"
   },
   "source": [
    "# Introduction\n",
    "\n",
    "Language models are very useful for a wide range of applications, e.g., speech recognition and machine translation. Consider a sentence consisting of words $x_1, x_2, …, x_m$, where $m$ is the length of the sentence, the goal of language modeling is to model the probability of the sentence, where $m \\geq 1$, $x_i \\in V $ and $V$ is the vocabulary of the corpus:\n",
    "$$p(x_1, x_2, …, x_m)$$\n",
    "In this project, we are going to explore both statistical language model and neural language model on the [Wikitext-2](https://blog.einstein.ai/the-wikitext-long-term-dependency-language-modeling-dataset/) datasets. Download wikitext-2 word-level data and put it under the ``data`` folder.\n",
    "\n",
    "## Statistical  Language Model\n",
    "\n",
    "A simple way is to view words as independent random variables (i.e., zero-th order Markovian assumption). The joint probability can be written as:\n",
    "$$p(x_1, x_2, …, x_m)=\\prod_{i=1}^m p(x_i)$$\n",
    "However, this model ignores the word order information, to account for which, under the first-order Markovian assumption, the joint probability can be written as:\n",
    "$$p(x_0, x_1, x_2, …, x_m)= \\prod_{i=1}^{m}p(x_i \\mid x_{i-1})$$\n",
    "Under the second-order Markovian assumption, the joint probability can be written as:\n",
    "$$p(x_{-1}, x_0, x_1, x_2, …, x_m)= \\prod_{i=1}^{m}p(x_i \\mid x_{i-2}, x_{i-1})$$\n",
    "Similar to what we did in HMM, we will assume that $x_{-1}=START, x_0=START, x_m = STOP$ in this definition, where $START, STOP$ are special symbols referring to the start and the end of a sentence.\n",
    "\n",
    "\n",
    "\n",
    "\n",
    "\n"
   ]
  },
  {
   "cell_type": "markdown",
   "metadata": {
    "colab_type": "text",
    "id": "F5wC4lqKCdXW"
   },
   "source": [
    "### Parameter estimation\n",
    "\n",
    "Let's use $count(u)$ to denote the number of times the unigram $u$ appears in the corpus, use $count(v, u)$ to denote the number of times the bigram $v, u$ appears in the corpus, and $count(w, v, u)$ the times the trigram $w, v, u$ appears in the corpus, $u \\in V \\cup STOP$ and $w, v \\in V \\cup START$.\n",
    "\n",
    "And the parameters of the unigram, bigram and trigram models can be obtained using maximum likelihood estimation (MLE).\n",
    "\n",
    "- In the unigram model, the parameters can be estimated as: $$p(u) = \\frac {count(u)}{c}$$, where $c$ is the total number of words in the corpus.\n",
    "- In the bigram model, the parameters can be estimated as:\n",
    "$$p(u \\mid v) = \\frac{count(v, u)}{count(v)}$$\n",
    "- In the trigram model, the parameters can be estimated as:\n",
    "$$p(u \\mid w, v) = \\frac{count(w, v, u)}{count(w, v)}$$\n",
    "\n",
    "\n"
   ]
  },
  {
   "cell_type": "code",
   "execution_count": 1,
   "metadata": {},
   "outputs": [
    {
     "data": {
      "application/javascript": [
       "MathJax.Hub.Config({\n",
       "  TeX: { equationNumbers: { autoNumber: \"AMS\" } }\n",
       "});\n"
      ],
      "text/plain": [
       "<IPython.core.display.Javascript object>"
      ]
     },
     "metadata": {},
     "output_type": "display_data"
    }
   ],
   "source": [
    "%%javascript\n",
    "MathJax.Hub.Config({\n",
    "  TeX: { equationNumbers: { autoNumber: \"AMS\" } }\n",
    "});"
   ]
  },
  {
   "cell_type": "markdown",
   "metadata": {
    "colab_type": "text",
    "id": "C7dks8t0CdXW"
   },
   "source": [
    "### Smoothing the parameters\n",
    "Note, it is likely that many parameters of bigram and trigram models will be 0 because the relevant bigrams and trigrams involved do not appear in the corpus. If you don't have a way to handle these 0 probabilities, all the sentences that include such bigrams or trigrams will have probabilities of 0.\n",
    "\n",
    "We'll use a Add-k Smoothing method to fix this problem, the smoothed parameter can be estimated as:\n",
    "\\begin{equation}\n",
    "p_{add-k}(u)= \\frac{count(u)+k}{c+k|V^*|}\n",
    "\\end{equation}\n",
    "\\begin{equation}\n",
    "p_{add-k}(u \\mid v)= \\frac{count(v, u)+k}{count(v)+k|V^*|}\n",
    "\\end{equation}\n",
    "\\begin{equation}\n",
    "p_{add-k}(u \\mid w, v)= \\frac{count(w, v, u)+k}{count(w, v)+k|V^*|}\n",
    "\\end{equation}\n",
    "\n",
    "where $k \\in (0, 1)$ is the parameter of this approach, and $|V^*|$ is the size of the vocabulary $V^*$,here $V^*= V \\cup STOP$. One way to choose the value of $k$ is by\n",
    "optimizing the perplexity of the development set, namely to choose the value that minimizes the perplexity.\n",
    "\n"
   ]
  },
  {
   "cell_type": "markdown",
   "metadata": {
    "colab_type": "text",
    "id": "SNVha_8UCdXX"
   },
   "source": [
    "### Perplexity\n",
    "\n",
    "Given a test set $D^{\\prime}$ consisting of sentences $X^{(1)}, X^{(2)}, …, X^{(|D^{\\prime}|)}$, each sentence $X^{(j)}$ consists of words $x_1^{(j)}, x_2^{(j)},…,x_{n_j}^{(j)}$, we can measure the probability of each sentence $s_i$, and the quality of the language model would be the probability it assigns to the entire set of test sentences, namely:\n",
    "\\begin{equation} \n",
    "\\prod_j^{D^{\\prime}}p(X^{(j)})\n",
    "\\end{equation}\n",
    "Let's define average log2 probability as:\n",
    "\\begin{equation} \n",
    "l=\\frac{1}{c^{\\prime}}\\sum_{j=1}^{|D^{\\prime}|}log_2p(X^{(j)})\n",
    "\\end{equation}\n",
    "$c^{\\prime}$ is the total number of words in the test set, $D^{\\prime}$ is the number of sentences. And the perplexity is defined as:\n",
    "\\begin{equation} \n",
    "perplexity=2^{-l}\n",
    "\\end{equation}\n",
    "\n",
    "The lower the perplexity, the better the language model."
   ]
  },
  {
   "cell_type": "code",
   "execution_count": 2,
   "metadata": {},
   "outputs": [],
   "source": [
    "from collections import Counter, namedtuple\n",
    "import itertools\n",
    "import numpy as np"
   ]
  },
  {
   "cell_type": "code",
   "execution_count": 3,
   "metadata": {},
   "outputs": [],
   "source": [
    "with open('data/wikitext-2/wiki.train.tokens', 'r', encoding='utf8') as f:\n",
    "    text = f.readlines()\n",
    "    train_sents = [line.lower().strip('\\n').split() for line in text]\n",
    "    train_sents = [s for s in train_sents if len(s)>0 and s[0] != '=']"
   ]
  },
  {
   "cell_type": "code",
   "execution_count": 4,
   "metadata": {},
   "outputs": [
    {
     "name": "stdout",
     "output_type": "stream",
     "text": [
      "['the', 'game', 'began', 'development', 'in', '2010', ',', 'carrying', 'over', 'a', 'large', 'portion', 'of', 'the', 'work', 'done', 'on', 'valkyria', 'chronicles', 'ii', '.', 'while', 'it', 'retained', 'the', 'standard', 'features', 'of', 'the', 'series', ',', 'it', 'also', 'underwent', 'multiple', 'adjustments', ',', 'such', 'as', 'making', 'the', 'game', 'more', '<unk>', 'for', 'series', 'newcomers', '.', 'character', 'designer', '<unk>', 'honjou', 'and', 'composer', 'hitoshi', 'sakimoto', 'both', 'returned', 'from', 'previous', 'entries', ',', 'along', 'with', 'valkyria', 'chronicles', 'ii', 'director', 'takeshi', 'ozawa', '.', 'a', 'large', 'team', 'of', 'writers', 'handled', 'the', 'script', '.', 'the', 'game', \"'s\", 'opening', 'theme', 'was', 'sung', 'by', 'may', \"'n\", '.']\n"
     ]
    }
   ],
   "source": [
    "print(train_sents[1])"
   ]
  },
  {
   "cell_type": "markdown",
   "metadata": {
    "colab_type": "text",
    "id": "G0vxL-WpCdXX"
   },
   "source": [
    "### Question 1 [code][written]\n",
    "1. Implement the function **\"compute_ngram\"** that computes n-grams in the corpus.\n",
    " (Do not take the START and STOP symbols into consideration for now.) \n",
    " For n=1,2,3, the number of unique n-grams should be **28910/577343/1344047**, respectively.\n",
    "2. List 10 most frequent unigrams, bigrams and trigrams as well as their counts.(Hint: use the built-in function .most_common in Counter class)"
   ]
  },
  {
   "cell_type": "code",
   "execution_count": 5,
   "metadata": {
    "colab": {},
    "colab_type": "code",
    "id": "TOyoT-QiCdXY"
   },
   "outputs": [],
   "source": [
    "def compute_ngram(sents, n):\n",
    "    '''\n",
    "    Compute n-grams that appear in \"sents\".\n",
    "    param:\n",
    "        sents: list[list[str]] --- list of list of word strings\n",
    "        n: int --- \"n\" gram\n",
    "    return:\n",
    "        ngram_set: set{str} --- a set of n-grams (no duplicate elements)\n",
    "        ngram_dict: dict{ngram: counts} --- a dictionary that maps each ngram to its number occurence in \"sents\";\n",
    "        This dict contains the parameters of our ngram model. E.g. if n=2, ngram_dict={('a','b'):10, ('b','c'):13}\n",
    "        \n",
    "        You may need to use \"Counter\", \"tuple\" function here.\n",
    "    '''\n",
    "    ngram_set = None\n",
    "    ngram_dict = None\n",
    "    ### YOUR CODE HERE\n",
    "    '''\n",
    "    sents contain list of sentences\n",
    "    '''\n",
    "    \n",
    "    ngram_dict = dict()\n",
    "    for sentence in sents:\n",
    "        for index in range(len(sentence) - n + 1):\n",
    "            n_gram_word = tuple(sentence[index:index+n])\n",
    "            ngram_dict.setdefault(n_gram_word, 0)\n",
    "            ngram_dict[n_gram_word] += 1\n",
    "    ngram_set = set(ngram_dict)\n",
    "    ### END OF YOUR CODE\n",
    "    return ngram_set, ngram_dict"
   ]
  },
  {
   "cell_type": "code",
   "execution_count": 6,
   "metadata": {},
   "outputs": [
    {
     "name": "stdout",
     "output_type": "stream",
     "text": [
      "28910\n"
     ]
    }
   ],
   "source": [
    "### ~28xxx\n",
    "unigram_set, unigram_dict = compute_ngram(train_sents, 1)\n",
    "print(len(unigram_set))"
   ]
  },
  {
   "cell_type": "code",
   "execution_count": 7,
   "metadata": {},
   "outputs": [
    {
     "name": "stdout",
     "output_type": "stream",
     "text": [
      "577343\n"
     ]
    }
   ],
   "source": [
    "### ~57xxxx\n",
    "bigram_set, bigram_dict = compute_ngram(train_sents, 2)\n",
    "print(len(bigram_set))"
   ]
  },
  {
   "cell_type": "code",
   "execution_count": 8,
   "metadata": {},
   "outputs": [
    {
     "name": "stdout",
     "output_type": "stream",
     "text": [
      "1344047\n"
     ]
    }
   ],
   "source": [
    "### ~134xxxx\n",
    "trigram_set, trigram_dict = compute_ngram(train_sents, 3)\n",
    "print(len(trigram_set))"
   ]
  },
  {
   "cell_type": "code",
   "execution_count": 9,
   "metadata": {},
   "outputs": [],
   "source": [
    "# List 10 most frequent unigrams, bigrams and trigrams as well as their counts.\n",
    "def get_top10(ngram_dict, n ):\n",
    "    '''\n",
    "    Function to get the top n n-gram slices in the dictionary\n",
    "    Args:\n",
    "    - ngram_dict : dict(dictionary containing the n-gram slices)\n",
    "    - n : int (number of elements you want to see)\n",
    "    Returns:\n",
    "    - sorted_dict : dict (dictionary containing the top n elements)\n",
    "    '''\n",
    "    sorted_dict = {k: v for k, v in sorted(ngram_dict.items(), key = lambda x : x[1], reverse=True)[:n]}\n",
    "    return sorted_dict"
   ]
  },
  {
   "cell_type": "code",
   "execution_count": 10,
   "metadata": {},
   "outputs": [
    {
     "data": {
      "text/plain": [
       "{('the',): 130519,\n",
       " (',',): 99763,\n",
       " ('.',): 73388,\n",
       " ('of',): 56743,\n",
       " ('<unk>',): 53951,\n",
       " ('and',): 49940,\n",
       " ('in',): 44876,\n",
       " ('to',): 39462,\n",
       " ('a',): 36140,\n",
       " ('\"',): 28285}"
      ]
     },
     "execution_count": 10,
     "metadata": {},
     "output_type": "execute_result"
    }
   ],
   "source": [
    "get_top10(unigram_dict, 10)"
   ]
  },
  {
   "cell_type": "markdown",
   "metadata": {
    "colab_type": "text",
    "id": "PVpoDgU7CdXb"
   },
   "source": [
    "### Question 2 [code][written]\n",
    "In this part, we take the START and STOP symbols into consideration. So we need to pad the **train_sents** as described in \"Statistical Language Model\" before we apply \"compute_ngram\" function. For example, given a sentence \"I like NLP\", in a bigram model, we need to pad it as \"START I like NLP STOP\", in a trigram model, we need to pad it as \"START START I like NLP STOP\".\n",
    "\n",
    "1. Implement the ``pad_sents function``.\n",
    "2. Pad ``train_sents``.\n",
    "3. Apply ``compute_ngram`` function to these padded sents. \n",
    "4. Implement ``ngram_prob`` function. Compute the probability for each n-gram in the variable **ngrams** according to Eq.(1)(2)(3) in **\"smoothing the parameters\"** .List down the n-grams that have 0 probability. \n",
    "\n"
   ]
  },
  {
   "cell_type": "code",
   "execution_count": 11,
   "metadata": {},
   "outputs": [
    {
     "name": "stdout",
     "output_type": "stream",
     "text": [
      "[['the', 'computer'], ['go', 'to'], ['have', 'had'], ['and', 'the'], ['can', 'sea'], ['a', 'number', 'of'], ['with', 'respect', 'to'], ['in', 'terms', 'of'], ['not', 'good', 'bad'], ['first', 'start', 'with']]\n"
     ]
    }
   ],
   "source": [
    "###############################################\n",
    "ngrams = list()\n",
    "with open(r'data/ngram.txt','r') as f:\n",
    "    for line in f:\n",
    "        ngrams.append(line.strip('\\n').split())\n",
    "print(ngrams)\n",
    "###############################################"
   ]
  },
  {
   "cell_type": "code",
   "execution_count": 12,
   "metadata": {},
   "outputs": [],
   "source": [
    "START = '<START>'\n",
    "STOP = '<STOP>'\n",
    "###################################\n",
    "def pad_sents(sents, n):\n",
    "    '''\n",
    "    Pad the sents according to n.\n",
    "    params:\n",
    "        sents: list[list[str]] --- list of sentences.\n",
    "        n: int --- specify the padding type, 1-gram, 2-gram, or 3-gram.\n",
    "    return:\n",
    "        padded_sents: list[list[str]] --- list of padded sentences.\n",
    "    '''\n",
    "    padded_sents = None\n",
    "    ### YOUR CODE HERE\n",
    "    padded_sents = []\n",
    "    \n",
    "    start = '<START>'\n",
    "    stop = '<STOP>'\n",
    "    \n",
    "    start_ls, stop_ls = [], []\n",
    "    \n",
    "    for i in range(n):\n",
    "        start_ls.append(start)\n",
    "        stop_ls.append(stop)\n",
    "        \n",
    "    for sent in sents:\n",
    "        padded_sent = start_ls + sent + stop_ls\n",
    "        padded_sents.append(padded_sent)\n",
    "\n",
    "    ### END OF YOUR CODE\n",
    "    return padded_sents"
   ]
  },
  {
   "cell_type": "code",
   "execution_count": 13,
   "metadata": {},
   "outputs": [],
   "source": [
    "uni_sents = pad_sents(train_sents, 1)\n",
    "bi_sents = pad_sents(train_sents, 2)\n",
    "tri_sents = pad_sents(train_sents, 3)"
   ]
  },
  {
   "cell_type": "code",
   "execution_count": 14,
   "metadata": {},
   "outputs": [],
   "source": [
    "unigram_set, unigram_dict = compute_ngram(uni_sents, 1)\n",
    "bigram_set, bigram_dict = compute_ngram(bi_sents, 2)\n",
    "trigram_set, trigram_dict = compute_ngram(tri_sents, 3)"
   ]
  },
  {
   "cell_type": "code",
   "execution_count": 15,
   "metadata": {},
   "outputs": [
    {
     "data": {
      "text/plain": [
       "(28912, 580827, 1363978)"
      ]
     },
     "execution_count": 15,
     "metadata": {},
     "output_type": "execute_result"
    }
   ],
   "source": [
    "### (28xxx, 58xxxx, 136xxxx)\n",
    "len(unigram_set),len(bigram_set),len(trigram_set)"
   ]
  },
  {
   "cell_type": "code",
   "execution_count": 16,
   "metadata": {},
   "outputs": [
    {
     "name": "stdout",
     "output_type": "stream",
     "text": [
      "2042258\n"
     ]
    }
   ],
   "source": [
    "### ~ 200xxxx; total number of words in wikitext-2.train\n",
    "num_words = sum([v for _,v in unigram_dict.items()])\n",
    "print(num_words)"
   ]
  },
  {
   "cell_type": "code",
   "execution_count": 17,
   "metadata": {},
   "outputs": [],
   "source": [
    "def ngram_prob(ngram, num_words, unigram_dic, bigram_dic, trigram_dic):\n",
    "    '''\n",
    "    params:\n",
    "        ngram: list[str] --- a list that represents n-gram\n",
    "        num_words: int --- total number of words\n",
    "        unigram_dic: dict{ngram: counts} --- a dictionary that maps each 1-gram to its number of occurences in \"sents\";\n",
    "        bigram_dic: dict{ngram: counts} --- a dictionary that maps each 2-gram to its number of occurence in \"sents\";\n",
    "        trigram_dic: dict{ngram: counts} --- a dictionary that maps each 3-gram to its number occurence in \"sents\";\n",
    "    return:\n",
    "        prob: float --- probability of the \"ngram\"\n",
    "    '''\n",
    "    prob = None\n",
    "    ### YOUR CODE HERE\n",
    "    '''\n",
    "    unigram : count(u)\n",
    "    \n",
    "    '''\n",
    "    uni_prob = 0\n",
    "    bi_prob = 0\n",
    "    tri_prob = 0\n",
    "    \n",
    "    try:\n",
    "    \n",
    "        if len(ngram) == 1:\n",
    "            for word in ngram:\n",
    "#                 if (word,) not in unigram_dic:\n",
    "#                     numerator = unigram_dic[('<unk>',)]\n",
    "#                 else:\n",
    "                numerator = unigram_dic[(word,)]\n",
    "                unigram_prob = numerator / num_words\n",
    "                uni_prob *= unigram_prob\n",
    "            prob = uni_prob\n",
    "        elif len(ngram) == 2:\n",
    "            bigram_denominator = unigram_dic[(ngram[0],)]\n",
    "            bigram_numerator = bigram_dic[tuple(ngram)]\n",
    "            prob = bigram_numerator/bigram_denominator\n",
    "        elif len(ngram) == 3:\n",
    "            trigram_denominator = bigram_dic[(ngram[0],ngram[1])]\n",
    "            trigram_numerator = trigram_dic[tuple(ngram)]\n",
    "            prob = trigram_numerator/trigram_denominator\n",
    "    except:\n",
    "        prob = 0\n",
    "\n",
    "    \n",
    "    ### END OF YOUR CODE\n",
    "    return prob"
   ]
  },
  {
   "cell_type": "code",
   "execution_count": 18,
   "metadata": {},
   "outputs": [
    {
     "data": {
      "text/plain": [
       "9.960235674499498e-05"
      ]
     },
     "execution_count": 18,
     "metadata": {},
     "output_type": "execute_result"
    }
   ],
   "source": [
    "### ~9.96e-05\n",
    "ngram_prob(ngrams[0], num_words,unigram_dict, bigram_dict, trigram_dict)"
   ]
  },
  {
   "cell_type": "code",
   "execution_count": 19,
   "metadata": {},
   "outputs": [
    {
     "name": "stdout",
     "output_type": "stream",
     "text": [
      "['can', 'sea'] 0\n",
      "['not', 'good', 'bad'] 0\n",
      "['first', 'start', 'with'] 0\n"
     ]
    }
   ],
   "source": [
    "### List down the n-grams that have 0 probability. \n",
    "for ngram in ngrams:\n",
    "    p = ngram_prob(ngram, num_words,unigram_dict, bigram_dict, trigram_dict)\n",
    "    if p == 0:\n",
    "        print(ngram, p)"
   ]
  },
  {
   "cell_type": "markdown",
   "metadata": {
    "colab_type": "text",
    "id": "2kAezpJ9CdXd"
   },
   "source": [
    "### Question 3 [code][written]\n",
    "\n",
    "1. Implement ``smooth_ngram_prob`` function to estimate ngram probability with ``add-k`` smoothing technique. Compute the smoothed probabilities of each n-gram in the variable **\"ngrams\"** according to Eq.(1)(2)(3) in **\"smoothing the parameters\"** section.\n",
    "2. Implement ``perplexity`` function to compute the perplexity of the corpus \"**valid_sents**\" according to the Equations (4),(5),(6) in **perplexity** section. The computation of $p(X^{(j)})$ depends on the n-gram model you choose. If you choose 2-gram model, then you need to calculate $p(X^{(j)})$ based on Eq.(2) in **smoothing the parameter** section. Hint: convert probability to log probability.\n",
    "3. Try out different $k\\in [0.1, 0.3, 0.5, 0.7, 0.9]$ and different n-gram model ($n=1,2,3$). Find the n-gram model and $k$ that gives the best perplexity on \"**valid_sents**\" (smaller is better)."
   ]
  },
  {
   "cell_type": "code",
   "execution_count": 20,
   "metadata": {},
   "outputs": [],
   "source": [
    "with open('data/wikitext-2/wiki.valid.tokens', 'r', encoding='utf8') as f:\n",
    "    text = f.readlines()\n",
    "    valid_sents = [line.lower().strip('\\n').split() for line in text]\n",
    "    valid_sents = [s for s in valid_sents if len(s)>0 and s[0] != '=']\n",
    "\n",
    "uni_valid_sents = pad_sents(valid_sents, 1)\n",
    "bi_valid_sents = pad_sents(valid_sents, 2)\n",
    "tri_valid_sents = pad_sents(valid_sents, 3)"
   ]
  },
  {
   "cell_type": "code",
   "execution_count": 21,
   "metadata": {},
   "outputs": [],
   "source": [
    "def smooth_ngram_prob(ngram, k, num_words, unigram_dic, bigram_dic, trigram_dic):\n",
    "    '''\n",
    "    params:\n",
    "        ngram: list[str] --- a list that represents n-gram\n",
    "        k: float \n",
    "        num_words: int --- total number of words\n",
    "        unigram_dic: dict{ngram: counts} --- a dictionary that maps each 1-gram to its number of occurences in \"sents\";\n",
    "        bigram_dic: dict{ngram: counts} --- a dictionary that maps each 2-gram to its number of occurence in \"sents\";\n",
    "        trigram_dic: dict{ngram: counts} --- a dictionary that maps each 3-gram to its number occurence in \"sents\";\n",
    "    return:\n",
    "        s_prob: float --- probability of the \"ngram\"\n",
    "    '''\n",
    "    s_prob = 0\n",
    "    V = len(unigram_dic) + 1 \n",
    "    ### YOUR CODE HERE\n",
    "\n",
    "    \n",
    "    if len(ngram) == 1:\n",
    "        for word in ngram:\n",
    "#             if (word,) not in unigram_dic:\n",
    "#                 numerator = unigram_dic[('<unk>',)]\n",
    "#             else:\n",
    "            numerator = unigram_dic[(word,)]\n",
    "            s_prob = (numerator + k) / (num_words + V)\n",
    "    elif len(ngram) == 2:\n",
    "    \n",
    "        bigram_denominator = unigram_dic[(ngram[0],)]\n",
    "        try:\n",
    "            bigram_numerator = bigram_dic[tuple(ngram)]\n",
    "        except:\n",
    "            bigram_numerator = 0\n",
    "        s_prob = (bigram_numerator + k) / (bigram_denominator + k*V)\n",
    "    elif len(ngram) == 3:\n",
    "        \n",
    "        try:\n",
    "            trigram_denominator = bigram_dic[(ngram[0],ngram[1])]\n",
    "            trigram_numerator = trigram_dic[tuple(ngram)]\n",
    "        except:\n",
    "            trigram_denominator = 0 \n",
    "            trigram_numerator = 0 \n",
    "        s_prob = (trigram_numerator + k) / (trigram_denominator + k * V)    \n",
    "    \n",
    "    ### END OF YOUR CODE\n",
    "    return s_prob"
   ]
  },
  {
   "cell_type": "code",
   "execution_count": 22,
   "metadata": {},
   "outputs": [
    {
     "data": {
      "text/plain": [
       "9.311918220664871e-05"
      ]
     },
     "execution_count": 22,
     "metadata": {},
     "output_type": "execute_result"
    }
   ],
   "source": [
    "### ~ 9.31e-05\n",
    "smooth_ngram_prob(ngrams[0], 0.5, num_words, unigram_dict, bigram_dict, trigram_dict)"
   ]
  },
  {
   "cell_type": "code",
   "execution_count": 23,
   "metadata": {},
   "outputs": [],
   "source": [
    "def perplexity(n, k, num_words, valid_sents, unigram_dic, bigram_dic, trigram_dic):\n",
    "    '''\n",
    "    compute the perplexity of valid_sents\n",
    "    params:\n",
    "        n: int --- n-gram model you choose. \n",
    "        k: float --- smoothing parameter.\n",
    "        num_words: int --- total number of words in the traning set.\n",
    "        valid_sents: list[list[str]] --- list of sentences.\n",
    "        unigram_dic: dict{ngram: counts} --- a dictionary that maps each 1-gram to its number of occurences in \"sents\";\n",
    "        bigram_dic: dict{ngram: counts} --- a dictionary that maps each 2-gram to its number of occurence in \"sents\";\n",
    "        trigram_dic: dict{ngram: counts} --- a dictionary that maps each 3-gram to its number occurence in \"sents\";\n",
    "    return:\n",
    "        ppl: float --- perplexity of valid_sents\n",
    "    '''\n",
    "    ppl = None\n",
    "    ### YOUR CODE HERE\n",
    "    c = 0\n",
    "    l = 0 \n",
    "    for sentence in valid_sents:\n",
    "        c += len(sentence)\n",
    "        s_p = 0\n",
    "        for i in range(len(sentence)):\n",
    "            s_p += np.log2(smooth_ngram_prob(sentence[i:i+n], k, num_words, unigram_dic, bigram_dic, trigram_dic))\n",
    "        l+= s_p\n",
    "    l /= c\n",
    "    ppl = 2 **(-l)\n",
    "     \n",
    "    ### END OF YOUR CODE\n",
    "    return ppl"
   ]
  },
  {
   "cell_type": "code",
   "execution_count": 24,
   "metadata": {},
   "outputs": [
    {
     "data": {
      "text/plain": [
       "836.9592060281042"
      ]
     },
     "execution_count": 24,
     "metadata": {},
     "output_type": "execute_result"
    }
   ],
   "source": [
    "### ~ 840\n",
    "perplexity(1, 0.1, num_words, uni_valid_sents, unigram_dict, bigram_dict, trigram_dict)"
   ]
  },
  {
   "cell_type": "code",
   "execution_count": 25,
   "metadata": {},
   "outputs": [
    {
     "name": "stdout",
     "output_type": "stream",
     "text": [
      "n = 1, k = 0.1, ppl = 836.9592060281042\n",
      "n = 1, k = 0.3, ppl = 834.9977532200639\n",
      "n = 1, k = 0.5, ppl = 833.0914520584979\n",
      "n = 1, k = 0.7, ppl = 831.2359545332025\n",
      "n = 1, k = 0.9, ppl = 829.4274815419767\n",
      "n = 2, k = 0.1, ppl = 783.8781349685943\n",
      "n = 2, k = 0.3, ppl = 1116.7472231327645\n",
      "n = 2, k = 0.5, ppl = 1352.731252461768\n",
      "n = 2, k = 0.7, ppl = 1547.7695868017806\n",
      "n = 2, k = 0.9, ppl = 1718.4083087461815\n",
      "n = 3, k = 0.1, ppl = 5128.537607667474\n",
      "n = 3, k = 0.3, ppl = 7272.002814119486\n",
      "n = 3, k = 0.5, ppl = 8557.354797026534\n",
      "n = 3, k = 0.7, ppl = 9503.041224722776\n",
      "n = 3, k = 0.9, ppl = 10256.287856035962\n"
     ]
    }
   ],
   "source": [
    "n = [1,2,3]\n",
    "k = [0.1, 0.3, 0.5, 0.7, 0.9]\n",
    "### YOUR CODE HERE\n",
    "\n",
    "for i in n:\n",
    "    for j in k:\n",
    "        print(f'n = {i}, k = {j}, ppl = {perplexity(i, j, num_words, uni_valid_sents, unigram_dict, bigram_dict, trigram_dict)}')\n",
    "\n",
    "### END OF YOUR CODE"
   ]
  },
  {
   "cell_type": "markdown",
   "metadata": {
    "colab_type": "text",
    "id": "3o_yjh9lCdXg"
   },
   "source": [
    "### Question 4 [code]\n",
    "\n",
    "Evaluate the perplexity of the test data **test_sents** based on the best n-gram model and $k$ you have found on the validation data (Q 3.3)."
   ]
  },
  {
   "cell_type": "code",
   "execution_count": 26,
   "metadata": {
    "colab": {},
    "colab_type": "code",
    "id": "i7hGcXgCCdXg"
   },
   "outputs": [],
   "source": [
    "with open('data/wikitext-2/wiki.test.tokens', 'r', encoding='utf8') as f:\n",
    "    text = f.readlines()\n",
    "    test_sents = [line.lower().strip('\\n').split() for line in text]\n",
    "    test_sents = [s for s in test_sents if len(s)>0 and s[0] != '=']\n",
    "\n",
    "uni_test_sents = pad_sents(test_sents, 1)\n",
    "bi_test_sents = pad_sents(test_sents, 2)\n",
    "tri_test_sents = pad_sents(test_sents, 3)"
   ]
  },
  {
   "cell_type": "code",
   "execution_count": 27,
   "metadata": {},
   "outputs": [
    {
     "data": {
      "text/plain": [
       "653.2327035169877"
      ]
     },
     "execution_count": 27,
     "metadata": {},
     "output_type": "execute_result"
    }
   ],
   "source": [
    "### YOUR CODE HERE\n",
    "perplexity(2, 0.1, num_words,bi_test_sents, unigram_dict, bigram_dict, trigram_dict)\n",
    "### END OF YOUR CODE"
   ]
  },
  {
   "cell_type": "markdown",
   "metadata": {
    "colab_type": "text",
    "collapsed": true,
    "id": "ePSI8RDWCdXj"
   },
   "source": [
    "## Neural Language Model (RNN)\n"
   ]
  },
  {
   "cell_type": "markdown",
   "metadata": {
    "colab_type": "text",
    "id": "jkoTco_jCdXj"
   },
   "source": [
    "<img src=\"LM.png\" alt=\"drawing\" style=\"width:500px;\"/>\n",
    "\n",
    "We will create a LSTM language model as shown in figure and train it on the Wikitext-2 dataset. \n",
    "The data generators (train\\_iter, valid\\_iter, test\\_iter) have been provided. \n",
    "The word embeddings together with the parameters in the LSTM model will be learned from scratch.\n",
    "\n",
    "[Pytorch](https://pytorch.org/tutorials/) and [torchtext](https://torchtext.readthedocs.io/en/latest/index.html#) are required in this part. Do not make any changes to the provided code unless you are requested to do so. "
   ]
  },
  {
   "cell_type": "markdown",
   "metadata": {},
   "source": [
    "### Question 5 [code]\n",
    "- Implement the ``__init__`` function in ``LangModel`` class.\n",
    "- Implement the ``forward`` function in ``LangModel`` class.\n",
    "- Complete the training code in ``train`` function.\n",
    "    Then complete the testing code in  ``test`` function and \n",
    "    compute the perplexity of the test data ``test_iter``. The test perplexity should be below 150."
   ]
  },
  {
   "cell_type": "code",
   "execution_count": 28,
   "metadata": {
    "colab": {},
    "colab_type": "code",
    "id": "tF2GCRdFCdXk",
    "outputId": "7e2ee790-c23f-48dd-e4a2-763293db1880"
   },
   "outputs": [
    {
     "name": "stderr",
     "output_type": "stream",
     "text": [
      "[nltk_data] Downloading package punkt to\n",
      "[nltk_data]     C:\\Users\\chris\\AppData\\Roaming\\nltk_data...\n",
      "[nltk_data]   Package punkt is already up-to-date!\n"
     ]
    },
    {
     "data": {
      "text/plain": [
       "<torch._C.Generator at 0x2d053fe7410>"
      ]
     },
     "execution_count": 28,
     "metadata": {},
     "output_type": "execute_result"
    }
   ],
   "source": [
    "import torchtext\n",
    "import torch\n",
    "import torch.nn.functional as F\n",
    "from torchtext.datasets import WikiText2\n",
    "from torch import nn, optim\n",
    "from torchtext import data\n",
    "from nltk import word_tokenize\n",
    "import nltk\n",
    "nltk.download('punkt')\n",
    "torch.manual_seed(222)"
   ]
  },
  {
   "cell_type": "code",
   "execution_count": 29,
   "metadata": {
    "colab": {},
    "colab_type": "code",
    "id": "lt6JBdSnCdXn",
    "outputId": "7d11709e-1821-473e-aece-5add82208067"
   },
   "outputs": [],
   "source": [
    "def tokenizer(text):\n",
    "    '''Tokenize a string to words'''\n",
    "    return word_tokenize(text)\n",
    "\n",
    "START = '<START>'\n",
    "STOP = '<STOP>'\n",
    "#Load and split data into three parts\n",
    "TEXT = data.Field(lower=True, tokenize=tokenizer, init_token=START, eos_token=STOP)\n",
    "train, valid, test = WikiText2.splits(TEXT) "
   ]
  },
  {
   "cell_type": "code",
   "execution_count": 30,
   "metadata": {
    "colab": {},
    "colab_type": "code",
    "id": "KHwu4VMVCdXq",
    "outputId": "4fb02a02-8f07-4239-b1f0-45234cda2b2d"
   },
   "outputs": [
    {
     "name": "stdout",
     "output_type": "stream",
     "text": [
      "Vocabulary size: 28905\n"
     ]
    }
   ],
   "source": [
    "#Build a vocabulary from the train dataset\n",
    "TEXT.build_vocab(train)\n",
    "print('Vocabulary size:', len(TEXT.vocab))"
   ]
  },
  {
   "cell_type": "code",
   "execution_count": 31,
   "metadata": {
    "colab": {},
    "colab_type": "code",
    "id": "ua9e-OBMCdXs"
   },
   "outputs": [],
   "source": [
    "BATCH_SIZE = 64\n",
    "# the length of a piece of text feeding to the RNN layer\n",
    "BPTT_LEN = 32           \n",
    "# train, validation, test data\n",
    "train_iter, valid_iter, test_iter = data.BPTTIterator.splits((train, valid, test),\n",
    "                                                                batch_size=BATCH_SIZE,\n",
    "                                                                bptt_len=BPTT_LEN,\n",
    "                                                                repeat=False)"
   ]
  },
  {
   "cell_type": "code",
   "execution_count": 32,
   "metadata": {
    "colab": {},
    "colab_type": "code",
    "id": "6_Cd8shXCdXy",
    "scrolled": true
   },
   "outputs": [
    {
     "name": "stdout",
     "output_type": "stream",
     "text": [
      "Size of text tensor torch.Size([32, 64])\n",
      "Size of target tensor torch.Size([32, 64])\n"
     ]
    }
   ],
   "source": [
    "#Generate a batch of train data\n",
    "batch = next(iter(train_iter))\n",
    "text, target = batch.text, batch.target\n",
    "# print(batch.dataset[0].text[:32])\n",
    "# print(text[0:3],target[:3])\n",
    "print('Size of text tensor',text.size())\n",
    "print('Size of target tensor',target.size())"
   ]
  },
  {
   "cell_type": "code",
   "execution_count": 33,
   "metadata": {},
   "outputs": [],
   "source": [
    "class LangModel(nn.Module):\n",
    "    def __init__(self, lang_config):\n",
    "        super(LangModel, self).__init__()\n",
    "        self.vocab_size = lang_config['vocab_size']\n",
    "        self.emb_size = lang_config['emb_size']\n",
    "        self.hidden_size = lang_config['hidden_size']\n",
    "        self.num_layer = lang_config['num_layer']\n",
    "        \n",
    "        self.embedding = None\n",
    "        self.rnn = None\n",
    "        self.linear = None\n",
    "        \n",
    "        ### TODO: \n",
    "        ###    1. Initialize 'self.embedding' with nn.Embedding function and 2 variables we have initialized for you\n",
    "        ###    2. Initialize 'self.rnn' with nn.LSTM function and 3 variables we have initialized for you\n",
    "        ###    3. Initialize 'self.linear' with nn.Linear function and 2 variables we have initialized for you\n",
    "        ### Reference:\n",
    "        ###        https://pytorch.org/docs/stable/nn.html\n",
    "        \n",
    "        ### YOUR CODE HERE (3 lines)\n",
    "        \n",
    "       \n",
    "        \n",
    "        self.embedding = nn.Embedding(self.vocab_size, self.emb_size)\n",
    "        self.rnn = nn.LSTM(self.emb_size, self.hidden_size, self.num_layer)\n",
    "        self.linear = nn.Linear(self.hidden_size, self.vocab_size)\n",
    "        ### END OF YOUR CODE\n",
    "        \n",
    "    def forward(self, batch_sents, hidden=None):\n",
    "        '''\n",
    "        params:\n",
    "            batch_sents: torch.LongTensor of shape (sequence_len, batch_size)\n",
    "        return:\n",
    "            normalized_score: torch.FloatTensor of shape (sequence_len, batch_size, vocab_size)\n",
    "        '''\n",
    "        normalized_score = None\n",
    "        hidden = hidden\n",
    "        ### TODO:\n",
    "        ###      1. Feed the batch_sents to self.embedding  \n",
    "        ###      2. Feed the embeddings to self.rnn. Remember to pass \"hidden\" into self.rnn, even if it is None. But we will \n",
    "        ###         use \"hidden\" when implementing greedy search.\n",
    "        ###      3. Apply linear transformation to the output of self.rnn\n",
    "        ###      4. Apply 'F.log_softmax' to the output of linear transformation\n",
    "        ###\n",
    "        ### YOUR CODE HERE \n",
    "        embedded = self.embedding(batch_sents)\n",
    "        out, hidden = self.rnn(embedded, (hidden))\n",
    "        out = self.linear(out)\n",
    "        normalized_score = F.log_softmax(out,dim=2)\n",
    "        ### END OF YOUR CODE\n",
    "        return normalized_score, hidden"
   ]
  },
  {
   "cell_type": "code",
   "execution_count": 34,
   "metadata": {},
   "outputs": [],
   "source": [
    "def train(model, train_iter, valid_iter, vocab_size, criterion, optimizer, num_epochs):\n",
    "    for n in range(num_epochs):\n",
    "        train_loss = 0\n",
    "        target_num = 0\n",
    "        model.train()\n",
    "        for batch in train_iter:\n",
    "            \n",
    "            text, targets = batch.text.to(device), batch.target.to(device)\n",
    "            loss = None\n",
    "            \n",
    "            ### we don't consider \"hidden\" here. So according to the default setting, \"hidden\" will be None\n",
    "            ### YOU CODE HERE (~5 lines)\n",
    "            model.zero_grad()\n",
    "            optimizer.zero_grad()\n",
    "            output, _ = model(text)\n",
    "            \n",
    "            loss = criterion(output.view(-1, vocab_size), targets.view(-1))\n",
    "            loss.backward()\n",
    "            optimizer.step()\n",
    "            \n",
    "            ### END OF YOUR CODE\n",
    "            ##########################################\n",
    "            train_loss += loss.item() * targets.size(0) * targets.size(1)\n",
    "            target_num += targets.size(0) * targets.size(1)\n",
    "\n",
    "        train_loss /= target_num\n",
    "\n",
    "        # monitor the loss of all the predictions\n",
    "        val_loss = 0\n",
    "        target_num = 0\n",
    "        model.eval()\n",
    "        for batch in valid_iter:\n",
    "            text, targets = batch.text.to(device), batch.target.to(device)\n",
    "            \n",
    "            prediction,_ = model(text)\n",
    "            loss = criterion(prediction.view(-1, vocab_size), targets.view(-1))\n",
    "            \n",
    "            val_loss += loss.item() * targets.size(0) * targets.size(1)\n",
    "            target_num += targets.size(0) * targets.size(1)\n",
    "        val_loss /= target_num\n",
    "\n",
    "        print('Epoch: {}, Training Loss: {:.4f}, Validation Loss: {:.4f}'.format(n+1, train_loss, val_loss))            "
   ]
  },
  {
   "cell_type": "code",
   "execution_count": 35,
   "metadata": {},
   "outputs": [],
   "source": [
    "def test(model, vocab_size, criterion, test_iter):\n",
    "    '''\n",
    "    params: \n",
    "        model: LSTM model\n",
    "        test_iter: test data\n",
    "    return:\n",
    "        ppl: perplexity \n",
    "    '''\n",
    "    ppl = None\n",
    "    test_loss = 0\n",
    "    target_num = 0\n",
    "    with torch.no_grad():\n",
    "        for batch in test_iter:\n",
    "            text, targets = batch.text.to(device), batch.target.to(device)\n",
    "\n",
    "            prediction,_ = model(text)\n",
    "            loss = criterion(prediction.view(-1, vocab_size), targets.view(-1))\n",
    "\n",
    "            test_loss += loss.item() * targets.size(0) * targets.size(1)\n",
    "            target_num += targets.size(0) * targets.size(1)\n",
    "\n",
    "        test_loss /= target_num\n",
    "        \n",
    "        ### Compute perplexity according to \"test_loss\"\n",
    "        ### Hint: Consider how the loss is computed.\n",
    "        ### YOUR CODE HERE(1 line)\n",
    "        ppl = 2**(test_loss) # NLLoss\n",
    "        ### END OF YOUR CODE\n",
    "        return ppl"
   ]
  },
  {
   "cell_type": "code",
   "execution_count": 36,
   "metadata": {},
   "outputs": [],
   "source": [
    "num_epochs=10\n",
    "device = torch.device(\"cuda\" if torch.cuda.is_available() else \"cpu\")\n",
    "vocab_size = len(TEXT.vocab)\n",
    "\n",
    "config = {'vocab_size':vocab_size,\n",
    "         'emb_size':128,\n",
    "         'hidden_size':128,\n",
    "         'num_layer':1}\n",
    "\n",
    "LM = LangModel(config)\n",
    "LM = LM.to(device)\n",
    "\n",
    "criterion = nn.NLLLoss(reduction='mean').to(device)\n",
    "optimizer = optim.Adam(LM.parameters(), lr=1e-3, betas=(0.7, 0.99))"
   ]
  },
  {
   "cell_type": "code",
   "execution_count": 37,
   "metadata": {},
   "outputs": [
    {
     "name": "stdout",
     "output_type": "stream",
     "text": [
      "Epoch: 1, Training Loss: 6.0684, Validation Loss: 5.1855\n",
      "Epoch: 2, Training Loss: 5.4048, Validation Loss: 4.9640\n",
      "Epoch: 3, Training Loss: 5.1295, Validation Loss: 4.8605\n",
      "Epoch: 4, Training Loss: 4.9541, Validation Loss: 4.8123\n",
      "Epoch: 5, Training Loss: 4.8266, Validation Loss: 4.7835\n",
      "Epoch: 6, Training Loss: 4.7266, Validation Loss: 4.7667\n",
      "Epoch: 7, Training Loss: 4.6443, Validation Loss: 4.7576\n",
      "Epoch: 8, Training Loss: 4.5740, Validation Loss: 4.7538\n",
      "Epoch: 9, Training Loss: 4.5130, Validation Loss: 4.7533\n",
      "Epoch: 10, Training Loss: 4.4593, Validation Loss: 4.7558\n"
     ]
    }
   ],
   "source": [
    "train(LM, train_iter, valid_iter,vocab_size, criterion, optimizer, num_epochs)"
   ]
  },
  {
   "cell_type": "code",
   "execution_count": 38,
   "metadata": {},
   "outputs": [
    {
     "data": {
      "text/plain": [
       "24.313683028512312"
      ]
     },
     "execution_count": 38,
     "metadata": {},
     "output_type": "execute_result"
    }
   ],
   "source": [
    "# < 150\n",
    "test(LM, vocab_size, criterion, test_iter)"
   ]
  },
  {
   "cell_type": "markdown",
   "metadata": {},
   "source": [
    "### Question 6 [code]\n",
    "When we use trained language model to generate a sentence given a start token, we can choose either ``greedy search`` or ``beam search``. \n",
    "<img src=\"greedy.png\" alt=\"drawing\" style=\"width:500px;\"/>\n",
    "\n",
    "As shown above, ``greedy search`` algorithm will pick the token which has the highest probability and feed it to the language model as input in the next time step. The model will generate ``max_len`` number of tokens at most.\n",
    "\n",
    "- Implement ``word_greedy_search``\n",
    "- **[optional]** Implement ``word_beam_search`` "
   ]
  },
  {
   "cell_type": "code",
   "execution_count": 39,
   "metadata": {},
   "outputs": [],
   "source": [
    "def word_greedy_search(model, start_token, max_len):\n",
    "    '''\n",
    "    param:\n",
    "        model: nn.Module --- language model\n",
    "        start_token: str --- e.g. 'he'\n",
    "        max_len: int --- max number of tokens generated\n",
    "    return:\n",
    "        strings: list[str] --- list of tokens, e.g., ['he', 'was', 'a', 'member', 'of',...]\n",
    "    '''\n",
    "    model.eval()\n",
    "    ID = TEXT.vocab.stoi[start_token]\n",
    "    strings = [start_token]\n",
    "    hidden = None\n",
    "    \n",
    "    ### You may find TEXT.vocab.itos useful.\n",
    "    ### YOUR CODE HERE\n",
    "\n",
    "    for i in range(max_len):\n",
    "        out , _ = model(torch.LongTensor([[ID]]).to(device)) # out would be a id\n",
    "        print(out)\n",
    "        ID = torch.argmax(out, dim =-1)\n",
    "        strings.append(TEXT.vocab.itos[ID])    \n",
    "    \n",
    "    ### END OF YOUR CODE \n",
    "    return strings"
   ]
  },
  {
   "cell_type": "code",
   "execution_count": 40,
   "metadata": {},
   "outputs": [
    {
     "data": {
      "text/plain": [
       "['he',\n",
       " 'was',\n",
       " 'the',\n",
       " '<',\n",
       " 'unk',\n",
       " '>',\n",
       " ',',\n",
       " 'and',\n",
       " 'the',\n",
       " '<',\n",
       " 'unk',\n",
       " '>',\n",
       " ',',\n",
       " 'and',\n",
       " 'the',\n",
       " '<',\n",
       " 'unk',\n",
       " '>',\n",
       " ',',\n",
       " 'and',\n",
       " 'the',\n",
       " '<',\n",
       " 'unk',\n",
       " '>',\n",
       " ',',\n",
       " 'and',\n",
       " 'the',\n",
       " '<',\n",
       " 'unk',\n",
       " '>',\n",
       " ',',\n",
       " 'and',\n",
       " 'the',\n",
       " '<',\n",
       " 'unk',\n",
       " '>',\n",
       " ',',\n",
       " 'and',\n",
       " 'the',\n",
       " '<',\n",
       " 'unk',\n",
       " '>',\n",
       " ',',\n",
       " 'and',\n",
       " 'the',\n",
       " '<',\n",
       " 'unk',\n",
       " '>',\n",
       " ',',\n",
       " 'and',\n",
       " 'the',\n",
       " '<',\n",
       " 'unk',\n",
       " '>',\n",
       " ',',\n",
       " 'and',\n",
       " 'the',\n",
       " '<',\n",
       " 'unk',\n",
       " '>',\n",
       " ',',\n",
       " 'and',\n",
       " 'the',\n",
       " '<',\n",
       " 'unk']"
      ]
     },
     "execution_count": 40,
     "metadata": {},
     "output_type": "execute_result"
    }
   ],
   "source": [
    "word_greedy_search(LM, 'he', 64)"
   ]
  },
  {
   "cell_type": "code",
   "execution_count": 41,
   "metadata": {},
   "outputs": [],
   "source": [
    "# BeamNode = namedtuple('BeamNode', ['prev_node', 'prev_hidden', 'wordID', 'score', 'length'])\n",
    "# LMNode = namedtuple('LMNode', ['sent', 'score'])\n",
    "\n",
    "def word_beam_search(model, start_token, max_len, beam_size):\n",
    "    model.eval()\n",
    "    ID = TEXT.vocab.stoi[start_token]\n",
    "    strings = [start_token]\n",
    "    hidden = None\n",
    "    \n",
    "    \n",
    "    for i in range(beam_size, max_len):\n",
    "        sent = [TEXT.vocab.stoi[word] for word in strings[i-beam_size:i]]\n",
    "        out , _ = model(torch.LongTensor(sent).reshape(len(sent),1).to(device)) # out would be a id\n",
    "        ID = torch.argmax(out, dim =-1)\n",
    "        strings.append(TEXT.vocab.itos[ID])\n",
    "        \n",
    "    return strings"
   ]
  },
  {
   "cell_type": "code",
   "execution_count": 42,
   "metadata": {},
   "outputs": [
    {
     "data": {
      "text/plain": [
       "['he',\n",
       " 'was',\n",
       " 'the',\n",
       " '<',\n",
       " 'unk',\n",
       " '>',\n",
       " ',',\n",
       " 'and',\n",
       " 'the',\n",
       " '<',\n",
       " 'unk',\n",
       " '>',\n",
       " ',',\n",
       " 'and',\n",
       " 'the',\n",
       " '<',\n",
       " 'unk',\n",
       " '>',\n",
       " ',',\n",
       " 'and',\n",
       " 'the',\n",
       " '<',\n",
       " 'unk',\n",
       " '>',\n",
       " ',',\n",
       " 'and',\n",
       " 'the',\n",
       " '<',\n",
       " 'unk',\n",
       " '>',\n",
       " ',',\n",
       " 'and',\n",
       " 'the',\n",
       " '<',\n",
       " 'unk',\n",
       " '>',\n",
       " ',',\n",
       " 'and',\n",
       " 'the',\n",
       " '<',\n",
       " 'unk',\n",
       " '>',\n",
       " ',',\n",
       " 'and',\n",
       " 'the',\n",
       " '<',\n",
       " 'unk',\n",
       " '>',\n",
       " ',',\n",
       " 'and',\n",
       " 'the',\n",
       " '<',\n",
       " 'unk',\n",
       " '>',\n",
       " ',',\n",
       " 'and',\n",
       " 'the',\n",
       " '<',\n",
       " 'unk',\n",
       " '>',\n",
       " ',',\n",
       " 'and',\n",
       " 'the',\n",
       " '<']"
      ]
     },
     "execution_count": 42,
     "metadata": {},
     "output_type": "execute_result"
    }
   ],
   "source": [
    "word_beam_search(LM, 'he', 64, 1)"
   ]
  },
  {
   "cell_type": "markdown",
   "metadata": {},
   "source": [
    "# char-level LM"
   ]
  },
  {
   "cell_type": "markdown",
   "metadata": {},
   "source": [
    "### Question 7 [code]\n",
    "- Implement ``char_tokenizer``\n",
    "- Implement ``CharLangModel``, ``char_train``, ``char_test``\n",
    "- Implement ``char_greedy_search``"
   ]
  },
  {
   "cell_type": "code",
   "execution_count": 43,
   "metadata": {},
   "outputs": [],
   "source": [
    "def char_tokenizer(string):\n",
    "    '''\n",
    "    param:\n",
    "        string: str --- e.g. \"I love this assignment\"\n",
    "    return:\n",
    "        char_list: list[str] --- e.g. ['I', 'l', 'o', 'v', 'e', ' ', 't', 'h', 'i', 's', ...]\n",
    "    '''\n",
    "    char_list = None\n",
    "    ### YOUR CODE HERE\n",
    "    char_list = []\n",
    "    for char in string:\n",
    "        char_list.append(char)\n",
    "    \n",
    "    ### END OF YOUR CODE\n",
    "    return char_list"
   ]
  },
  {
   "cell_type": "code",
   "execution_count": 44,
   "metadata": {},
   "outputs": [
    {
     "data": {
      "text/plain": [
       "['t', 'e', 's', 't', ' ', 't', 'e', 's', 't', ' ', 't', 'e', 's', 't']"
      ]
     },
     "execution_count": 44,
     "metadata": {},
     "output_type": "execute_result"
    }
   ],
   "source": [
    "test_str = 'test test test'\n",
    "char_tokenizer(test_str)"
   ]
  },
  {
   "cell_type": "code",
   "execution_count": 45,
   "metadata": {},
   "outputs": [],
   "source": [
    "CHAR_TEXT = data.Field(lower=True, tokenize=char_tokenizer ,init_token='<START>', eos_token='<STOP>')\n",
    "ctrain, cvalid, ctest = WikiText2.splits(CHAR_TEXT)  "
   ]
  },
  {
   "cell_type": "code",
   "execution_count": 46,
   "metadata": {},
   "outputs": [
    {
     "name": "stdout",
     "output_type": "stream",
     "text": [
      "Vocabulary size: 247\n"
     ]
    }
   ],
   "source": [
    "CHAR_TEXT.build_vocab(ctrain)\n",
    "print('Vocabulary size:', len(CHAR_TEXT.vocab))"
   ]
  },
  {
   "cell_type": "code",
   "execution_count": 47,
   "metadata": {},
   "outputs": [],
   "source": [
    "BATCH_SIZE = 32\n",
    "# the length of a piece of text feeding to the RNN layer\n",
    "BPTT_LEN = 128        \n",
    "# train, validation, test data\n",
    "ctrain_iter, cvalid_iter, ctest_iter = data.BPTTIterator.splits((ctrain, cvalid, ctest),\n",
    "                                                                batch_size=BATCH_SIZE,\n",
    "                                                                bptt_len=BPTT_LEN,\n",
    "                                                                repeat=False)"
   ]
  },
  {
   "cell_type": "code",
   "execution_count": 48,
   "metadata": {},
   "outputs": [],
   "source": [
    "class CharLangModel(nn.Module):\n",
    "    def __init__(self, lang_config):\n",
    "        ### YOUR CODE HERE\n",
    "        super(CharLangModel,self).__init__()\n",
    "        self.vocab_size = lang_config['vocab_size']\n",
    "        self.emb_size = lang_config['emb_size']\n",
    "        self.hidden_size = lang_config['hidden_size']\n",
    "        self.num_layer = lang_config['num_layer']\n",
    "        \n",
    "        \n",
    "        self.embedding = nn.Embedding( num_embeddings = self.vocab_size, embedding_dim = self.emb_size)\n",
    "        \n",
    "        self.rnn = nn.LSTM(self.emb_size, self.hidden_size, self.num_layer)\n",
    "       \n",
    "        self.linear = nn.Linear(in_features=self.hidden_size, out_features=self.vocab_size)\n",
    "        \n",
    "        \n",
    "        \n",
    "    def forward(self, batch_sents, hidden=None):\n",
    "        ### YOUR CODE HERE\n",
    "        hidden = hidden\n",
    "        embedded = self.embedding(batch_sents)\n",
    "        out, hidden = self.rnn(embedded, (hidden))\n",
    "        out = self.linear(out)\n",
    "        normalized_score = F.log_softmax(out,dim=2)\n",
    "        \n",
    "        return normalized_score\n",
    "        "
   ]
  },
  {
   "cell_type": "code",
   "execution_count": 49,
   "metadata": {},
   "outputs": [],
   "source": [
    "def char_train(model, train_iter, valid_iter, criterion, optimizer, vocab_size, num_epochs):\n",
    "    ### YOUR CODE HERE\n",
    "     for n in range(num_epochs):\n",
    "        train_loss = 0\n",
    "        target_num = 0\n",
    "        hidden = None\n",
    "        model.train()\n",
    "        for batch in train_iter:\n",
    "            \n",
    "            text, targets = batch.text.to(device), batch.target.to(device)\n",
    "            loss = None\n",
    "            \n",
    "            ### we don't consider \"hidden\" here. So according to the default setting, \"hidden\" will be None\n",
    "            ### YOU CODE HERE (~5 lines)\n",
    "            model.zero_grad()\n",
    "            optimizer.zero_grad()\n",
    "            output = model(text)\n",
    "            \n",
    "            loss = criterion(output.view(-1, vocab_size), targets.view(-1))\n",
    "            loss.backward()\n",
    "            optimizer.step()\n",
    "            \n",
    "            ### END OF YOUR CODE\n",
    "            ##########################################\n",
    "            train_loss += loss.item() * targets.size(0) * targets.size(1)\n",
    "            target_num += targets.size(0) * targets.size(1)\n",
    "\n",
    "        train_loss /= target_num\n",
    "\n",
    "        # monitor the loss of all the predictions\n",
    "        val_loss = 0\n",
    "        target_num = 0\n",
    "        model.eval()\n",
    "        for batch in valid_iter:\n",
    "            text, targets = batch.text.to(device), batch.target.to(device)\n",
    "            \n",
    "            prediction = model(text)\n",
    "            loss = criterion(prediction.view(-1, vocab_size), targets.view(-1))\n",
    "            \n",
    "            val_loss += loss.item() * targets.size(0) * targets.size(1)\n",
    "            target_num += targets.size(0) * targets.size(1)\n",
    "        val_loss /= target_num\n",
    "\n",
    "        print('Epoch: {}, Training Loss: {:.4f}, Validation Loss: {:.4f}'.format(n+1, train_loss, val_loss))   "
   ]
  },
  {
   "cell_type": "code",
   "execution_count": 50,
   "metadata": {},
   "outputs": [],
   "source": [
    "def char_test(model, vocab_size, test_iter, criterion):\n",
    "    ### YOUR CODE HERE\n",
    "    '''\n",
    "    params: \n",
    "        model: LSTM model\n",
    "        test_iter: test data\n",
    "    return:\n",
    "        ppl: perplexity \n",
    "    '''\n",
    "    ppl = None\n",
    "    test_loss = 0\n",
    "    target_num = 0\n",
    "    with torch.no_grad():\n",
    "        for batch in test_iter:\n",
    "            text, targets = batch.text.to(device), batch.target.to(device)\n",
    "\n",
    "            prediction = model(text)\n",
    "            loss = criterion(prediction.view(-1, vocab_size), targets.view(-1))\n",
    "\n",
    "            test_loss += loss.item() * targets.size(0) * targets.size(1)\n",
    "            target_num += targets.size(0) * targets.size(1)\n",
    "\n",
    "        test_loss /= target_num\n",
    "        \n",
    "        ### Compute perplexity according to \"test_loss\"\n",
    "        ### Hint: Consider how the loss is computed.\n",
    "        ### YOUR CODE HERE(1 line)\n",
    "        ppl = 2**(test_loss) # NLLoss\n",
    "        ### END OF YOUR CODE\n",
    "        return ppl"
   ]
  },
  {
   "cell_type": "code",
   "execution_count": 59,
   "metadata": {},
   "outputs": [],
   "source": [
    "num_epochs=10\n",
    "device = torch.device(\"cuda\" if torch.cuda.is_available() else \"cpu\")\n",
    "char_vocab_size = len(CHAR_TEXT.vocab)\n",
    "\n",
    "config = {'vocab_size':char_vocab_size,\n",
    "         'emb_size':128,\n",
    "         'hidden_size':128,\n",
    "         'num_layer':128}\n",
    "\n",
    "CLM = CharLangModel(config)\n",
    "CLM = CLM.to(device)\n",
    "\n",
    "char_criterion = nn.NLLLoss(reduction='mean')\n",
    "char_optimizer = optim.Adam(CLM.parameters(), lr=1e-3, betas=(0.7, 0.99))"
   ]
  },
  {
   "cell_type": "code",
   "execution_count": null,
   "metadata": {},
   "outputs": [],
   "source": [
    "char_train(CLM, ctrain_iter, cvalid_iter, char_criterion, char_optimizer, char_vocab_size, num_epochs)"
   ]
  },
  {
   "cell_type": "code",
   "execution_count": null,
   "metadata": {},
   "outputs": [],
   "source": [
    "# <10\n",
    "char_test(CLM, char_vocab_size, ctest_iter, char_criterion)"
   ]
  },
  {
   "cell_type": "code",
   "execution_count": null,
   "metadata": {},
   "outputs": [],
   "source": [
    "def char_greedy_search(model, start_token, max_len):\n",
    "    '''\n",
    "    param:\n",
    "        model: nn.Module --- language model\n",
    "        start_token: str --- e.g. 'h'\n",
    "        max_len: int --- max number of tokens generated\n",
    "    return:\n",
    "        strings: list[str] --- list of tokens, e.g., ['h', 'e', ' ', 'i', 's',...]\n",
    "    '''   \n",
    "    model.eval()\n",
    "    ID = CHAR_TEXT.vocab.stoi[start_token]\n",
    "    strings = [start_token]\n",
    "    hidden = None\n",
    "    \n",
    "    ### You may find CHAR_TEXT.vocab.itos useful.\n",
    "    ### YOUR CODE HERE\n",
    "    for i in range(max_len):\n",
    "        out = model(torch.LongTensor([[ID]]).to(device)) # out would be a id\n",
    "        ID = torch.argmax(out, dim =-1)\n",
    "        strings.append(CHAR_TEXT.vocab.itos[ID])\n",
    "    \n",
    "    ### END OF YOUR CODE \n",
    "    return strings"
   ]
  },
  {
   "cell_type": "code",
   "execution_count": 58,
   "metadata": {},
   "outputs": [
    {
     "data": {
      "text/plain": [
       "['d',\n",
       " ' ',\n",
       " 't',\n",
       " 'h',\n",
       " 'e',\n",
       " ' ',\n",
       " 't',\n",
       " 'h',\n",
       " 'e',\n",
       " ' ',\n",
       " 't',\n",
       " 'h',\n",
       " 'e',\n",
       " ' ',\n",
       " 't',\n",
       " 'h',\n",
       " 'e',\n",
       " ' ',\n",
       " 't',\n",
       " 'h',\n",
       " 'e',\n",
       " ' ',\n",
       " 't',\n",
       " 'h',\n",
       " 'e',\n",
       " ' ',\n",
       " 't',\n",
       " 'h',\n",
       " 'e',\n",
       " ' ',\n",
       " 't',\n",
       " 'h',\n",
       " 'e',\n",
       " ' ',\n",
       " 't',\n",
       " 'h',\n",
       " 'e',\n",
       " ' ',\n",
       " 't',\n",
       " 'h',\n",
       " 'e',\n",
       " ' ',\n",
       " 't',\n",
       " 'h',\n",
       " 'e',\n",
       " ' ',\n",
       " 't',\n",
       " 'h',\n",
       " 'e',\n",
       " ' ',\n",
       " 't',\n",
       " 'h',\n",
       " 'e',\n",
       " ' ',\n",
       " 't',\n",
       " 'h',\n",
       " 'e',\n",
       " ' ',\n",
       " 't',\n",
       " 'h',\n",
       " 'e',\n",
       " ' ',\n",
       " 't',\n",
       " 'h',\n",
       " 'e']"
      ]
     },
     "execution_count": 58,
     "metadata": {},
     "output_type": "execute_result"
    }
   ],
   "source": [
    "char_greedy_search(CLM, 'd', 64)"
   ]
  },
  {
   "cell_type": "markdown",
   "metadata": {
    "colab_type": "text",
    "collapsed": true,
    "id": "cernoBq6CdX9"
   },
   "source": [
    "### Requirements:\n",
    "- This is an individual report.\n",
    "- Complete the code using Python.\n",
    "- List students with whom you have discussed if there are any.\n",
    "- Follow the honor code strictly."
   ]
  },
  {
   "cell_type": "markdown",
   "metadata": {
    "colab_type": "text",
    "id": "bDOUuC7-CdX-"
   },
   "source": [
    "### Free GPU Resources\n",
    "We suggest that you run neural language models on machines with GPU(s). Google provides the free online platform [Colaboratory](https://colab.research.google.com/notebooks/welcome.ipynb), a research tool for machine learning education and research. It’s a Jupyter notebook environment that requires no setup to use as common packages have been  pre-installed. Google users can have access to a Tesla T4 GPU (approximately 15G memory). Note that when you connect to a GPU-based VM runtime, you are given a maximum of 12 hours at a time on the VM.\n",
    "\n",
    "It is convenient to upload local Jupyter Notebook files and data to Colab, please refer to the [tutorial](https://colab.research.google.com/notebooks/io.ipynb). \n",
    "\n",
    "In addition, Microsoft also provides the online platform [Azure Notebooks](https://notebooks.azure.com/help/introduction) for research of data science and machine learning, there are free trials for new users with credits."
   ]
  }
 ],
 "metadata": {
  "colab": {
   "name": "mini project.ipynb",
   "provenance": []
  },
  "kernelspec": {
   "display_name": "Python 3",
   "language": "python",
   "name": "python3"
  },
  "language_info": {
   "codemirror_mode": {
    "name": "ipython",
    "version": 3
   },
   "file_extension": ".py",
   "mimetype": "text/x-python",
   "name": "python",
   "nbconvert_exporter": "python",
   "pygments_lexer": "ipython3",
   "version": "3.7.6"
  }
 },
 "nbformat": 4,
 "nbformat_minor": 1
}
